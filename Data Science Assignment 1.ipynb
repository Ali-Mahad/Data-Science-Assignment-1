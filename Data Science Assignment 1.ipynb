{
 "cells": [
  {
   "cell_type": "code",
   "execution_count": 1,
   "id": "f51db472",
   "metadata": {},
   "outputs": [
    {
     "name": "stdout",
     "output_type": "stream",
     "text": [
      "Twinkle,twinkle,little star,  \n",
      "        How i wonder what you are! \n",
      "                Up above the world so high, \n",
      "                like a diamond in the sky. \n",
      " Twinkle,twinkle,little star, \n",
      "         How I wonder what you are\n"
     ]
    }
   ],
   "source": [
    "#Question1\n",
    "\n",
    "print(\"Twinkle,twinkle,little star,  \\n        How i wonder what you are! \\n                Up above the world so high, \\n                like a diamond in the sky. \\n Twinkle,twinkle,little star, \\n         How I wonder what you are\")"
   ]
  },
  {
   "cell_type": "code",
   "execution_count": 2,
   "id": "4bcf135a",
   "metadata": {},
   "outputs": [
    {
     "name": "stdout",
     "output_type": "stream",
     "text": [
      "Version of Python\n",
      "3.8.8 (default, Apr 13 2021, 15:08:03) [MSC v.1916 64 bit (AMD64)]\n",
      "Version Information\n",
      "sys.version_info(major=3, minor=8, micro=8, releaselevel='final', serial=0)\n"
     ]
    }
   ],
   "source": [
    "#Question2\n",
    "\n",
    "import sys\n",
    "\n",
    "print(\"Version of Python\")\n",
    "print(sys.version)\n",
    "\n",
    "print(\"Version Information\")\n",
    "print(sys.version_info)"
   ]
  },
  {
   "cell_type": "code",
   "execution_count": 3,
   "id": "846cbc86",
   "metadata": {},
   "outputs": [
    {
     "name": "stdout",
     "output_type": "stream",
     "text": [
      "Current date and time =\n",
      "22-01-01 11:27:48\n"
     ]
    }
   ],
   "source": [
    "#Question3\n",
    "\n",
    "import datetime\n",
    "crr_dt_tm = datetime.datetime.now()\n",
    "print(\"Current date and time =\")\n",
    "print(crr_dt_tm.strftime(\"%y-%m-%d %H:%M:%S\"))"
   ]
  },
  {
   "cell_type": "code",
   "execution_count": 4,
   "id": "62878a09",
   "metadata": {},
   "outputs": [
    {
     "name": "stdout",
     "output_type": "stream",
     "text": [
      "Enter Radius:50\n",
      "Area of circle is 7850.0\n"
     ]
    }
   ],
   "source": [
    "#Question4\n",
    "\n",
    "radi = int(input(\"Enter Radius:\"))\n",
    "area = 3.14 * radi ** 2\n",
    "print(\"Area of circle is\",area)"
   ]
  },
  {
   "cell_type": "code",
   "execution_count": 5,
   "id": "521e2fa6",
   "metadata": {},
   "outputs": [
    {
     "name": "stdout",
     "output_type": "stream",
     "text": [
      "Enter First Name:Mahad\n",
      "Enter Last Name:Ali\n",
      "Ali Mahad\n"
     ]
    }
   ],
   "source": [
    "#Question5\n",
    "\n",
    "name1 = input(\"Enter First Name:\")\n",
    "name2 = input(\"Enter Last Name:\");\n",
    "print( name2 , name1 )"
   ]
  },
  {
   "cell_type": "code",
   "execution_count": 6,
   "id": "27a77b73",
   "metadata": {},
   "outputs": [
    {
     "name": "stdout",
     "output_type": "stream",
     "text": [
      "Price of Pen 20\n",
      "Price of Marker 40\n",
      "Total Price Of Items: 60\n"
     ]
    }
   ],
   "source": [
    "#Question6\n",
    "\n",
    "item_1 = int(input(\"Price of Pen \"))\n",
    "item_2 = int(input(\"Price of Marker \"))\n",
    "print(\"Total Price Of Items:\",item_1 + item_2)"
   ]
  },
  {
   "cell_type": "code",
   "execution_count": null,
   "id": "265b0182",
   "metadata": {},
   "outputs": [],
   "source": []
  }
 ],
 "metadata": {
  "kernelspec": {
   "display_name": "Python 3",
   "language": "python",
   "name": "python3"
  },
  "language_info": {
   "codemirror_mode": {
    "name": "ipython",
    "version": 3
   },
   "file_extension": ".py",
   "mimetype": "text/x-python",
   "name": "python",
   "nbconvert_exporter": "python",
   "pygments_lexer": "ipython3",
   "version": "3.8.8"
  }
 },
 "nbformat": 4,
 "nbformat_minor": 5
}
